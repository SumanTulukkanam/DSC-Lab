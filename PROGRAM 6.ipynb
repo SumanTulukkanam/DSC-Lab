{
 "cells": [
  {
   "cell_type": "code",
   "execution_count": 1,
   "id": "9659874c-14f5-46d7-a538-a91a817380e8",
   "metadata": {},
   "outputs": [],
   "source": [
    "import pandas as pd\n",
    "import numpy as np\n",
    "import warnings\n",
    "warnings.simplefilter(\"ignore\")"
   ]
  },
  {
   "cell_type": "code",
   "execution_count": 5,
   "id": "d0f0f84d-31d8-4906-8766-0e32d431339a",
   "metadata": {},
   "outputs": [
    {
     "name": "stdout",
     "output_type": "stream",
     "text": [
      "<class 'pandas.core.frame.DataFrame'>\n",
      "RangeIndex: 243 entries, 0 to 242\n",
      "Data columns (total 10 columns):\n",
      " #   Column            Non-Null Count  Dtype  \n",
      "---  ------            --------------  -----  \n",
      " 0   name              243 non-null    object \n",
      " 1   birthday          227 non-null    object \n",
      " 2   title             243 non-null    object \n",
      " 3   character_name    243 non-null    object \n",
      " 4   character_year    111 non-null    object \n",
      " 5   characterage      131 non-null    float64\n",
      " 6   character_gender  243 non-null    object \n",
      " 7   love_interest     132 non-null    object \n",
      " 8   release_date      243 non-null    object \n",
      " 9   actor_age         227 non-null    float64\n",
      "dtypes: float64(2), object(8)\n",
      "memory usage: 19.1+ KB\n"
     ]
    }
   ],
   "source": [
    "df=pd.read_csv(\"C:\\\\Users\\\\PRAVEEN\\\\Downloads\\\\Dataset\\\\age - Copy.csv\")\n",
    "df.info()"
   ]
  },
  {
   "cell_type": "code",
   "execution_count": null,
   "id": "6c4bcbbc-77bc-4d6e-a231-f8d3db39b55d",
   "metadata": {},
   "outputs": [],
   "source": []
  }
 ],
 "metadata": {
  "kernelspec": {
   "display_name": "Python 3 (ipykernel)",
   "language": "python",
   "name": "python3"
  },
  "language_info": {
   "codemirror_mode": {
    "name": "ipython",
    "version": 3
   },
   "file_extension": ".py",
   "mimetype": "text/x-python",
   "name": "python",
   "nbconvert_exporter": "python",
   "pygments_lexer": "ipython3",
   "version": "3.11.7"
  }
 },
 "nbformat": 4,
 "nbformat_minor": 5
}
